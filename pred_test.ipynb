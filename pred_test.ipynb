{
 "cells": [
  {
   "cell_type": "code",
   "execution_count": null,
   "metadata": {},
   "outputs": [],
   "source": [
    "import sys\n",
    "import numpy as np\n",
    "import cv2\n",
    "import tensorflow as tf\n",
    "\n",
    "def main():\n",
    "    print(sys.argv[1])\n",
    "    categories = [\"Cat\",\"Dog\",\"Squirrel\"]\n",
    "    model = tf.keras.models.load_model(\"64x3-CNN.model\")\n",
    "    x = sys.argv[1]\n",
    "    testing = repr(x) # example: C:\\Users\\box88\\Desktop\\ai\\1.jpg\n",
    "    prediction = model.predict([prepare(testing)])\n",
    "    maxindex  = np.argmax(prediction)\n",
    "    print(categories[maxindex])\n",
    "\n",
    "if __name__ == \"__main__\":\n",
    "    main()"
   ]
  }
 ],
 "metadata": {
  "kernelspec": {
   "display_name": "Python 3",
   "language": "python",
   "name": "python3"
  },
  "language_info": {
   "codemirror_mode": {
    "name": "ipython",
    "version": 3
   },
   "file_extension": ".py",
   "mimetype": "text/x-python",
   "name": "python",
   "nbconvert_exporter": "python",
   "pygments_lexer": "ipython3",
   "version": "3.7.5"
  }
 },
 "nbformat": 4,
 "nbformat_minor": 2
}
